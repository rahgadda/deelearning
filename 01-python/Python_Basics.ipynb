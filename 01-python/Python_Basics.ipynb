{
  "nbformat": 4,
  "nbformat_minor": 0,
  "metadata": {
    "colab": {
      "name": "Python Basics.ipynb",
      "provenance": [],
      "collapsed_sections": [],
      "authorship_tag": "ABX9TyPZb+s0Ob0h5E3Ib23n9Geh",
      "include_colab_link": true
    },
    "kernelspec": {
      "name": "python3",
      "display_name": "Python 3"
    },
    "language_info": {
      "name": "python"
    }
  },
  "cells": [
    {
      "cell_type": "markdown",
      "metadata": {
        "id": "view-in-github",
        "colab_type": "text"
      },
      "source": [
        "<a href=\"https://colab.research.google.com/github/rahgadda/deeplearning/blob/main/01-python/Python_Basics.ipynb\" target=\"_parent\"><img src=\"https://colab.research.google.com/assets/colab-badge.svg\" alt=\"Open In Colab\"/></a>"
      ]
    },
    {
      "cell_type": "markdown",
      "metadata": {
        "id": "LwX6v0161p2e"
      },
      "source": [
        "**First Program `Hello, World!`**"
      ]
    },
    {
      "cell_type": "code",
      "metadata": {
        "colab": {
          "base_uri": "https://localhost:8080/"
        },
        "id": "pr32BfXJ0Rj4",
        "outputId": "6ff42cba-6b66-4419-9ac4-1230407fab02"
      },
      "source": [
        "print(\"Hello World\")"
      ],
      "execution_count": null,
      "outputs": [
        {
          "output_type": "stream",
          "text": [
            "Hello World\n"
          ],
          "name": "stdout"
        }
      ]
    },
    {
      "cell_type": "markdown",
      "metadata": {
        "id": "a6EUxf0H6iGV"
      },
      "source": [
        "**1. Comments**\n",
        "* Single Line Comments can be created using `#`\n",
        "* For Multiple Line Comments there is no support from Python. \n",
        "  - We can use these as python interpreter ignores these `\"\"\"` or `'''`"
      ]
    },
    {
      "cell_type": "code",
      "metadata": {
        "colab": {
          "base_uri": "https://localhost:8080/",
          "height": 35
        },
        "id": "zNs7El4e6onC",
        "outputId": "6e97b0d7-8b82-4634-b68a-63fed2c32597"
      },
      "source": [
        "# Single line comments\n",
        "\n",
        "\"\"\"\n",
        "\n",
        "Multi line comment\n",
        "\n",
        "\"\"\"\n",
        "\n",
        "'''\n",
        "\n",
        "Multi line comment\n",
        "\n",
        "'''"
      ],
      "execution_count": 4,
      "outputs": [
        {
          "output_type": "execute_result",
          "data": {
            "application/vnd.google.colaboratory.intrinsic+json": {
              "type": "string"
            },
            "text/plain": [
              "'\\n\\nMulti line comment\\n\\n'"
            ]
          },
          "metadata": {
            "tags": []
          },
          "execution_count": 4
        }
      ]
    },
    {
      "cell_type": "markdown",
      "metadata": {
        "id": "Vq3suplb1yKk"
      },
      "source": [
        "**2. Variables**\n",
        "\n",
        "* A variable is a named location used to store data in the memory.\n",
        "* In Python, values are not assigned to variables. It gives the reference of the object(value) to the variable.\n",
        "* **Naming Conventsion**\n",
        "  - Variable names should have a combination of letters in lowercase `(a to z)` or uppercase `(A to Z)` or digits `(0 to 9)` or an underscore `(_)`\n",
        "  - A variable name must `start with a letter or the underscore` character.\n",
        "  - Use `capital letters` possible to declare a `constant`.\n",
        "  - Don't `start a variable name` with a `digit`.\n",
        "  - Variable names are `case-sensitive`\n",
        "\n",
        "\n",
        "\n"
      ]
    },
    {
      "cell_type": "markdown",
      "metadata": {
        "id": "wEqTujFfAZh4"
      },
      "source": [
        "**3. Data Types**\n",
        "\n",
        "Python automatically determines data types of variables based on values.   \n",
        "Python support below data types\n",
        "* Simple Data Type:\n",
        "  - `int` used to store for non decimal values.\n",
        "  - `float` used to store decimal values.\n",
        "  - `bool` used to store `True` or `False`.\n",
        "  - `str` used to store Strings. These can be created using `\"\"` or `''`\n",
        "* Collections:\n",
        "  - "
      ]
    },
    {
      "cell_type": "code",
      "metadata": {
        "colab": {
          "base_uri": "https://localhost:8080/"
        },
        "id": "oo7lBd6IDPI8",
        "outputId": "98c94bdd-da68-4933-e512-e40162bb78cb"
      },
      "source": [
        "# Simple DatTypes\n",
        "x = \"Hello World\"\n",
        "print(x,\" is of \", type(x), \" datatype\")\n",
        "\n",
        "x = 20\n",
        "print(x,\" is of \", type(x), \" datatype\")\n",
        "\n",
        "x = 20.5\n",
        "print(x,\" is of \", type(x), \" datatype\")\n",
        "\n",
        "x = True\n",
        "print(x,\" is of \", type(x), \" datatype\")"
      ],
      "execution_count": 7,
      "outputs": [
        {
          "output_type": "stream",
          "text": [
            "Hello World  is of  <class 'str'>  datatype\n",
            "20  is of  <class 'int'>  datatype\n",
            "20.5  is of  <class 'float'>  datatype\n",
            "True  is of  <class 'bool'>  datatype\n"
          ],
          "name": "stdout"
        }
      ]
    }
  ]
}