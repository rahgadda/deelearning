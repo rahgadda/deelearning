{
  "nbformat": 4,
  "nbformat_minor": 0,
  "metadata": {
    "colab": {
      "name": "Python Basics.ipynb",
      "provenance": [],
      "collapsed_sections": [],
      "mount_file_id": "1msq2_dhy1A3xSXCLDlBqLY_U8V_X8CrN",
      "authorship_tag": "ABX9TyMIuSipTcMyiQEV54bUP6Da",
      "include_colab_link": true
    },
    "kernelspec": {
      "name": "python3",
      "display_name": "Python 3"
    },
    "language_info": {
      "name": "python"
    }
  },
  "cells": [
    {
      "cell_type": "markdown",
      "metadata": {
        "id": "view-in-github",
        "colab_type": "text"
      },
      "source": [
        "<a href=\"https://colab.research.google.com/github/rahgadda/deeplearning/blob/main/01-python/Python_Basics.ipynb\" target=\"_parent\"><img src=\"https://colab.research.google.com/assets/colab-badge.svg\" alt=\"Open In Colab\"/></a>"
      ]
    },
    {
      "cell_type": "markdown",
      "metadata": {
        "id": "LwX6v0161p2e"
      },
      "source": [
        "**About Python**\n",
        "* Python was conceived in the `late 1980s` by `Guido van Rossum` at `Centrum Wiskunde & Informatica (CWI)` in the `Netherlands`. \n",
        "* Python is an `Interpreter` language.\n",
        "* Python is `dynamically-typed`. The type for a value is decided at runtime, not in advance.\n",
        "* Python is `strongly typed`. Each variable have a type and the type matters when performing operations on a variables. \n",
        "* Python uses `indentation to define block`.\n",
        "* Unless an `encoding` format is specified, Python source code is `ASCII` by default.\n",
        "* Python supports `functional`, `imperative`, and `object-oriented` approaches to programming.\n",
        "\n",
        "</br></br>\n",
        "\n",
        "*First Program `Hello, World!`*"
      ]
    },
    {
      "cell_type": "code",
      "metadata": {
        "colab": {
          "base_uri": "https://localhost:8080/"
        },
        "id": "pr32BfXJ0Rj4",
        "outputId": "6ff42cba-6b66-4419-9ac4-1230407fab02"
      },
      "source": [
        "print(\"Hello World\")"
      ],
      "execution_count": null,
      "outputs": [
        {
          "output_type": "stream",
          "text": [
            "Hello World\n"
          ],
          "name": "stdout"
        }
      ]
    },
    {
      "cell_type": "markdown",
      "metadata": {
        "id": "b17Or3Nds6Qa"
      },
      "source": [
        "**1. Keywords**\n",
        "\n",
        "The following identifiers are used as reserved words or keywords.   \n",
        "These cannot be used as ordinary identifiers.   \n",
        "They must be spelled exactly as written here.\n",
        "\n",
        "![image.png](data:image/png;base64,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)"
      ]
    },
    {
      "cell_type": "markdown",
      "metadata": {
        "id": "a6EUxf0H6iGV"
      },
      "source": [
        "**2. Comments**\n",
        "* Single Line Comments can be created using `#`\n",
        "* For Multiple Line Comments there is no support from Python. \n",
        "  - We can use these as python interpreter ignores these `\"\"\"` or `'''`"
      ]
    },
    {
      "cell_type": "code",
      "metadata": {
        "colab": {
          "base_uri": "https://localhost:8080/",
          "height": 35
        },
        "id": "zNs7El4e6onC",
        "outputId": "6e97b0d7-8b82-4634-b68a-63fed2c32597"
      },
      "source": [
        "# Single line comments\n",
        "\n",
        "\"\"\"\n",
        "\n",
        "Multi line comment\n",
        "\n",
        "\"\"\"\n",
        "\n",
        "'''\n",
        "\n",
        "Multi line comment\n",
        "\n",
        "'''"
      ],
      "execution_count": null,
      "outputs": [
        {
          "output_type": "execute_result",
          "data": {
            "application/vnd.google.colaboratory.intrinsic+json": {
              "type": "string"
            },
            "text/plain": [
              "'\\n\\nMulti line comment\\n\\n'"
            ]
          },
          "metadata": {
            "tags": []
          },
          "execution_count": 4
        }
      ]
    },
    {
      "cell_type": "markdown",
      "metadata": {
        "id": "Vq3suplb1yKk"
      },
      "source": [
        "**3. Variables**\n",
        "\n",
        "* A variable is a named location used to store data in the memory.\n",
        "* In Python, values are not assigned to variables. It gives the reference of the object(value) to the variable.\n",
        "* **Naming Conventsion**\n",
        "  - Variable names should have a combination of letters in lowercase `(a to z)` or uppercase `(A to Z)` or digits `(0 to 9)` or an underscore `(_)`\n",
        "  - A variable name must `start with a letter or the underscore` character.\n",
        "  - Use `capital letters` possible to declare a `constant`.\n",
        "  - Don't `start a variable name` with a `digit`.\n",
        "  - Variable names are `case-sensitive`\n",
        "  - Cannot use `Keywords`\n",
        "  - All class names should be CamelCased\n",
        "  - `id()` is used to return address details\n",
        "\n",
        "\n"
      ]
    },
    {
      "cell_type": "markdown",
      "metadata": {
        "id": "wEqTujFfAZh4"
      },
      "source": [
        "**4. Data Types**\n",
        "\n",
        "Python automatically determines data types of variables based on values.   \n",
        "Python support below data types\n",
        "* **Simple Data Type:**\n",
        "  - `int` used to store for non decimal values.\n",
        "  - `float` used to store decimal values.\n",
        "  - `bool` used to store `True` or `False`.\n",
        "  - `str` used to store Strings. These can be created using `\"\"` or `''`\n",
        "* **Collections:**\n",
        "  - `list` is an ordered sequence of items. These are `mutable`. `[]`\n",
        "  - `tuple` is same as a list. These are `immutable`. `()`\n",
        "  - `set` is an unordered collection of unique items. Sets have `unique values`. `{}`\n",
        "  - `dict` is an unordered collection of `key-value pairs`. `{'key':'value'}`\n",
        "* **Type Conversion Function:**\n",
        "  - `int(a, base)`base in which string is defined [decimal, octa, hexa]\n",
        "  - `float()`\n",
        "  - `ord()` convert a character to integer\n",
        "  - `hex()`\n",
        "  - `oct()`\n",
        "  - `tuple()`\n",
        "  - `set()`\n",
        "  - `list()`\n",
        "  - `dict()`\n",
        "  - `str()`\n",
        "  - `complex(real,imag)` converts real numbers to complex(real,imag) number\n",
        "  - `chr(number)` converts number to its corresponding ASCII character.\n",
        "\n",
        "</br>\n",
        "\n",
        "Function `type()` is used to know which class a variable or a value belongs to.   \n",
        "Function `isinstance()` is used to check if an object belongs to a particular class."
      ]
    },
    {
      "cell_type": "code",
      "metadata": {
        "colab": {
          "base_uri": "https://localhost:8080/"
        },
        "id": "oo7lBd6IDPI8",
        "outputId": "c7780928-637a-4cab-e1a7-b16edd79c00f"
      },
      "source": [
        "# Simple DatTypes\n",
        "x = \"Hello World\"\n",
        "print(x,\" is of \", type(x), \" datatype\")\n",
        "print(x,\" is str \", isinstance(x,str))\n",
        "\n",
        "x = 20\n",
        "print(x,\" is of \", type(x), \" datatype\")\n",
        "print(x,\" is int \", isinstance(x,int))\n",
        "\n",
        "x = 20.5\n",
        "print(x,\" is of \", type(x), \" datatype\")\n",
        "print(x,\" is float \", isinstance(x,float))\n",
        "\n",
        "x = True\n",
        "print(x,\" is of \", type(x), \" datatype\")\n",
        "print(x,\" is bool \", isinstance(x,bool))\n",
        "\n",
        "# Collection DatTypes\n",
        "x = [5,10,15,20,25,30,35,40]\n",
        "print(x,\" is of \", type(x), \" datatype\")\n",
        "print(x,\" is list \", isinstance(x,list))\n",
        "\n",
        "x = (5,10,15,20,25,30,35,40)\n",
        "print(x,\" is of \", type(x), \" datatype\")\n",
        "print(x,\" is tuple \", isinstance(x,tuple))\n",
        "\n",
        "x = {5,10,15,20,25,30,35,40}\n",
        "print(x,\" is of \", type(x), \" datatype\")\n",
        "print(x,\" is set \", isinstance(x,set))\n",
        "\n",
        "x = {\"key1\":5, \"key2\":10}\n",
        "print(x,\" is of \", type(x), \" datatype\")\n",
        "print(x,\" is dict \", isinstance(x,dict))"
      ],
      "execution_count": null,
      "outputs": [
        {
          "output_type": "stream",
          "text": [
            "Hello World  is of  <class 'str'>  datatype\n",
            "Hello World  is str  True\n",
            "20  is of  <class 'int'>  datatype\n",
            "20  is int  True\n",
            "20.5  is of  <class 'float'>  datatype\n",
            "20.5  is float  True\n",
            "True  is of  <class 'bool'>  datatype\n",
            "True  is bool  True\n",
            "[5, 10, 15, 20, 25, 30, 35, 40]  is of  <class 'list'>  datatype\n",
            "[5, 10, 15, 20, 25, 30, 35, 40]  is list  True\n",
            "(5, 10, 15, 20, 25, 30, 35, 40)  is of  <class 'tuple'>  datatype\n",
            "(5, 10, 15, 20, 25, 30, 35, 40)  is tuple  True\n",
            "{35, 5, 40, 10, 15, 20, 25, 30}  is of  <class 'set'>  datatype\n",
            "{35, 5, 40, 10, 15, 20, 25, 30}  is set  True\n",
            "{'key1': 5, 'key2': 10}  is of  <class 'dict'>  datatype\n",
            "{'key1': 5, 'key2': 10}  is dict  True\n"
          ],
          "name": "stdout"
        }
      ]
    },
    {
      "cell_type": "markdown",
      "metadata": {
        "id": "ufubhc9V5SJz"
      },
      "source": [
        "**5. Operators**\n",
        "\n",
        "* Operators in python are categorized into below\n",
        "  * Arithmetic [+, - , *, /, %, **, //]\n",
        "  * Relational [<, >, >= ,<=, ==, !=]\n",
        "  * Assignment [= , +=, -= , *=, /=, %=, **=, //=]\n",
        "  * Logical    [and, or, not]\n",
        "  * Membership [in, not in]\n",
        "  * Identity   [is, is not]\n",
        "  * Bitwise    [&, !, ^, ~, <<, >>]"
      ]
    },
    {
      "cell_type": "markdown",
      "metadata": {
        "id": "xKRewFLKSudE"
      },
      "source": [
        "**6. Control Flow**\n",
        "\n",
        "Python supports three types of control flows\n",
        "* `if elif else` used to perform conditional actions\n",
        "* `while` used to iterate over a block of code as long as the test expression is `True`\n",
        "* `for` used to iterate over a sequence (list, tuple, string) or other iterable objects\n",
        "\n",
        "Python also below statements to comprihend control flows\n",
        "* `break` terminates the loop containing it\n",
        "* `continue` skip the rest of the code inside a loop\n",
        "* `pass` used to construct a body that does nothing"
      ]
    },
    {
      "cell_type": "code",
      "metadata": {
        "colab": {
          "base_uri": "https://localhost:8080/"
        },
        "id": "N8NDyJgGUuyi",
        "outputId": "33bc4a94-630a-4af6-ea65-8c3c845d401c"
      },
      "source": [
        "# If Statement\n",
        "num = -1\n",
        "if num > 0:\n",
        "  print(\"Positive number\")\n",
        "elif num == 0:\n",
        "  print(\"Zero\")\n",
        "else:\n",
        "  print(\"Negative number\")\n",
        "\n",
        "# While Loop\n",
        "while (num <0):\n",
        "  print(\"Still Negative number\")\n",
        "  num += 1\n",
        "\n",
        "# For Loop\n",
        "num = range(11)\n",
        "print(\"Update Num \", num)\n",
        "for i in num:\n",
        "  print(\"Invidiual Values \", i)"
      ],
      "execution_count": null,
      "outputs": [
        {
          "output_type": "stream",
          "text": [
            "Negative number\n",
            "Still Negative number\n",
            "Update Num  range(0, 11)\n",
            "Invidiual Values  0\n",
            "Invidiual Values  1\n",
            "Invidiual Values  2\n",
            "Invidiual Values  3\n",
            "Invidiual Values  4\n",
            "Invidiual Values  5\n",
            "Invidiual Values  6\n",
            "Invidiual Values  7\n",
            "Invidiual Values  8\n",
            "Invidiual Values  9\n",
            "Invidiual Values  10\n"
          ],
          "name": "stdout"
        }
      ]
    },
    {
      "cell_type": "markdown",
      "metadata": {
        "id": "swnC6RIjjffz"
      },
      "source": [
        "**7. Functions**\n",
        "\n",
        "* `def` keyword is used to create function.\n",
        "  * Varaibles decalred in function are local scoped\n",
        "  * `global` keyword should be used to update global variables\n",
        "  * `return` statement is used to send response.\n",
        "  * `*args` can be used to pass a varying number of positional arguments.\n",
        "  * `**kwargs`  can be used to pass a varying number of keyword arguments.\n",
        "* `lambda` are anonymous/nameless functions.\n",
        "  * These can have any number of arguments but only one expression.\n"
      ]
    },
    {
      "cell_type": "code",
      "metadata": {
        "colab": {
          "base_uri": "https://localhost:8080/"
        },
        "id": "NbeI7_89ae6_",
        "outputId": "33ed54bd-fa48-4dff-e703-83c6792d8756"
      },
      "source": [
        "def my_sum(*args):\n",
        "  result = 0\n",
        "  for i in args:\n",
        "    result = i + result\n",
        "  \n",
        "  return result\n",
        "print(my_sum(1,2,3,4,5,6,7))\n",
        "\n",
        "def my_concat(**kwargs):\n",
        "  result = \"\"\n",
        "  for i in kwargs.values():\n",
        "    result = result + i\n",
        "  \n",
        "  return result\n",
        "print(my_concat(a=\"Really \", b=\"Python \", c=\"Is \", d=\"Great\", e=\"!\"))\n",
        "\n",
        "(lambda x, y: x + y)(2, 3)"
      ],
      "execution_count": null,
      "outputs": [
        {
          "output_type": "stream",
          "text": [
            "28\n",
            "Really Python Is Great!\n"
          ],
          "name": "stdout"
        },
        {
          "output_type": "execute_result",
          "data": {
            "text/plain": [
              "5"
            ]
          },
          "metadata": {
            "tags": []
          },
          "execution_count": 37
        }
      ]
    },
    {
      "cell_type": "markdown",
      "metadata": {
        "id": "DS75TgNP16Yx"
      },
      "source": [
        "**8. Classes & Objects**\n",
        "\n",
        "* Python also supports `object oriented programming language`.\n",
        "* The `class` keyword is used to create a class\n",
        "* Object are creating using name of the class followed by `()`\n",
        "* A `__init__(self)` function is always executed when the class is being initiated. This acts like a constructor to initialize values.\n",
        "* A class can be inherited into another by adding parent class in child definition.\n",
        "* The method `super()` is used to invoke parent method from child\n",
        "* The `self` variable is used to access object variables inside a class.\n",
        "* The `del` keyword is used to delete properties on objects.\n",
        "* Class variables are used to define `static` values that are common across all objects."
      ]
    },
    {
      "cell_type": "code",
      "metadata": {
        "colab": {
          "base_uri": "https://localhost:8080/",
          "height": 478
        },
        "id": "qbguAzanwk23",
        "outputId": "c5e8fd97-6d32-4450-cfb7-3f4292f2853d"
      },
      "source": [
        "class Person:\n",
        "  msg = \"Welcome Message\"\n",
        "  def __init__(self):\n",
        "    self.person ={\n",
        "      \"name\":\"UNDEFINED\",\n",
        "      \"age\": 0      \n",
        "     }\n",
        "\n",
        "  def listDetails(self):\n",
        "    print(Person.msg)\n",
        "    print(self.person)\n",
        "\n",
        "person = Person()\n",
        "\n",
        "class Teacher(Person):\n",
        "  def __init__(self,name, age, subject):\n",
        "    Person.__init__(self)\n",
        "    self.person[\"name\"]=name\n",
        "    self.person[\"age\"]=age\n",
        "    self.person[\"subject\"]=subject\n",
        "\n",
        "teacher = Teacher(\"Pooja\",30, \"Python\")\n",
        "\n",
        "class Student(Person):\n",
        "  def __init__(self, name, age, group):\n",
        "    super().__init__()\n",
        "    self.person[\"name\"]=name\n",
        "    self.person[\"age\"]=age\n",
        "    self.person[\"group\"]=group\n",
        "\n",
        "rahul = Student(\"Rahul\",35, \"Computers\")\n",
        "\n",
        "person.listDetails()\n",
        "teacher.listDetails()\n",
        "rahul.listDetails()\n",
        "del rahul.person\n",
        "person.listDetails()\n",
        "rahul.listDetails()"
      ],
      "execution_count": 50,
      "outputs": [
        {
          "output_type": "stream",
          "text": [
            "Welcome Message\n",
            "{'name': 'UNDEFINED', 'age': 0}\n",
            "Welcome Message\n",
            "{'name': 'Pooja', 'age': 30, 'subject': 'Python'}\n",
            "Welcome Message\n",
            "{'name': 'Rahul', 'age': 35, 'group': 'Computers'}\n",
            "Welcome Message\n",
            "{'name': 'UNDEFINED', 'age': 0}\n",
            "Welcome Message\n"
          ],
          "name": "stdout"
        },
        {
          "output_type": "error",
          "ename": "AttributeError",
          "evalue": "ignored",
          "traceback": [
            "\u001b[0;31m---------------------------------------------------------------------------\u001b[0m",
            "\u001b[0;31mAttributeError\u001b[0m                            Traceback (most recent call last)",
            "\u001b[0;32m<ipython-input-50-8846ddc9e85b>\u001b[0m in \u001b[0;36m<module>\u001b[0;34m()\u001b[0m\n\u001b[1;32m     36\u001b[0m \u001b[0;32mdel\u001b[0m \u001b[0mrahul\u001b[0m\u001b[0;34m.\u001b[0m\u001b[0mperson\u001b[0m\u001b[0;34m\u001b[0m\u001b[0;34m\u001b[0m\u001b[0m\n\u001b[1;32m     37\u001b[0m \u001b[0mperson\u001b[0m\u001b[0;34m.\u001b[0m\u001b[0mlistDetails\u001b[0m\u001b[0;34m(\u001b[0m\u001b[0;34m)\u001b[0m\u001b[0;34m\u001b[0m\u001b[0;34m\u001b[0m\u001b[0m\n\u001b[0;32m---> 38\u001b[0;31m \u001b[0mrahul\u001b[0m\u001b[0;34m.\u001b[0m\u001b[0mlistDetails\u001b[0m\u001b[0;34m(\u001b[0m\u001b[0;34m)\u001b[0m\u001b[0;34m\u001b[0m\u001b[0;34m\u001b[0m\u001b[0m\n\u001b[0m",
            "\u001b[0;32m<ipython-input-50-8846ddc9e85b>\u001b[0m in \u001b[0;36mlistDetails\u001b[0;34m(self)\u001b[0m\n\u001b[1;32m      9\u001b[0m   \u001b[0;32mdef\u001b[0m \u001b[0mlistDetails\u001b[0m\u001b[0;34m(\u001b[0m\u001b[0mself\u001b[0m\u001b[0;34m)\u001b[0m\u001b[0;34m:\u001b[0m\u001b[0;34m\u001b[0m\u001b[0;34m\u001b[0m\u001b[0m\n\u001b[1;32m     10\u001b[0m     \u001b[0mprint\u001b[0m\u001b[0;34m(\u001b[0m\u001b[0mPerson\u001b[0m\u001b[0;34m.\u001b[0m\u001b[0mmsg\u001b[0m\u001b[0;34m)\u001b[0m\u001b[0;34m\u001b[0m\u001b[0;34m\u001b[0m\u001b[0m\n\u001b[0;32m---> 11\u001b[0;31m     \u001b[0mprint\u001b[0m\u001b[0;34m(\u001b[0m\u001b[0mself\u001b[0m\u001b[0;34m.\u001b[0m\u001b[0mperson\u001b[0m\u001b[0;34m)\u001b[0m\u001b[0;34m\u001b[0m\u001b[0;34m\u001b[0m\u001b[0m\n\u001b[0m\u001b[1;32m     12\u001b[0m \u001b[0;34m\u001b[0m\u001b[0m\n\u001b[1;32m     13\u001b[0m \u001b[0mperson\u001b[0m \u001b[0;34m=\u001b[0m \u001b[0mPerson\u001b[0m\u001b[0;34m(\u001b[0m\u001b[0;34m)\u001b[0m\u001b[0;34m\u001b[0m\u001b[0;34m\u001b[0m\u001b[0m\n",
            "\u001b[0;31mAttributeError\u001b[0m: 'Student' object has no attribute 'person'"
          ]
        }
      ]
    },
    {
      "cell_type": "markdown",
      "metadata": {
        "id": "gPLR2nOvx6NO"
      },
      "source": [
        "**9. Exception Handling**\n",
        "\n",
        "* Exceptions are handled using `try`, `except` & `finally`\n",
        "* `raise` is used to manually raise exceptionsimport sys\n",
        "* Custom expcetion can be by extending `Exception` class"
      ]
    },
    {
      "cell_type": "code",
      "metadata": {
        "colab": {
          "base_uri": "https://localhost:8080/"
        },
        "id": "jcHjnZQFzA8g",
        "outputId": "bcddb33e-72d5-48eb-9498-cadb639dbe79"
      },
      "source": [
        "# import module sys to get the type of exception\n",
        "import sys\n",
        "\n",
        "class RahulError(Exception):\n",
        "  def __init__(self, message):\n",
        "    self.message=message;\n",
        "\n",
        "try:\n",
        "  a=7/0\n",
        "except ZeroDivisionError as e:\n",
        "  print(\"Oops!\", e.__class__, \"occurred.\")\n",
        "  print(\"Oops!\", sys.exc_info()[0], \"occurred.\")\n",
        "finally:\n",
        "  print(\"Finally block\")\n",
        "\n",
        "try:\n",
        "  raise RahulError(\"This is my Custom Error\")\n",
        "except Exception as e:\n",
        "  print(e) "
      ],
      "execution_count": null,
      "outputs": [
        {
          "output_type": "stream",
          "text": [
            "Oops! <class 'ZeroDivisionError'> occurred.\n",
            "Oops! <class 'ZeroDivisionError'> occurred.\n",
            "Finally block\n",
            "This is my Custom Error\n"
          ],
          "name": "stdout"
        }
      ]
    },
    {
      "cell_type": "markdown",
      "metadata": {
        "id": "ky2Y4IdtHCf8"
      },
      "source": [
        "**10. Modules**\n",
        "\n",
        "* Moduels are used to create libraries\n",
        "* These are loaded using `import` statement\n",
        "* They can be re-named using `as` keyword\n",
        "* A built-in function `dir()` can be used to list all the variable/function names\n",
        "* The keyeword `from` can be used to import only parts from a module"
      ]
    },
    {
      "cell_type": "code",
      "metadata": {
        "colab": {
          "base_uri": "https://localhost:8080/"
        },
        "id": "X_6YlHKtpXC3",
        "outputId": "6ece2765-b978-4cd5-9cfe-c8173aea0502"
      },
      "source": [
        "!pwd\n",
        "!cd \"/content/drive/MyDrive/Colab Notebooks\"\n",
        "\n",
        "import sys\n",
        "sys.path.append('/content/drive/MyDrive/Colab Notebooks')\n",
        "\n",
        "import mylib\n",
        "import mylib as lib\n",
        "from mylib import person as ps\n",
        "mylib.printName()\n",
        "lib.printName()\n",
        "print(dir(lib))\n",
        "print(ps)\n",
        "\n",
        "sys.path.append('/content/')\n",
        "!cd /content/"
      ],
      "execution_count": 11,
      "outputs": [
        {
          "output_type": "stream",
          "text": [
            "/content\n",
            "Rahul\n",
            "Rahul\n",
            "['__builtins__', '__cached__', '__doc__', '__file__', '__loader__', '__name__', '__package__', '__spec__', 'person', 'printName']\n",
            "{'name': 'Rahul', 'age': 36, 'country': 'India'}\n"
          ],
          "name": "stdout"
        }
      ]
    },
    {
      "cell_type": "markdown",
      "metadata": {
        "id": "EjeFJvC3feCX"
      },
      "source": [
        "**X.**\n",
        "\n",
        "* `Unpacking`\n",
        "* `map()`\n",
        "* `filter()`"
      ]
    }
  ]
}