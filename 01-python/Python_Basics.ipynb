{
  "nbformat": 4,
  "nbformat_minor": 0,
  "metadata": {
    "colab": {
      "name": "Python Basics.ipynb",
      "provenance": [],
      "collapsed_sections": [],
      "authorship_tag": "ABX9TyPyN+G3O5guliREvfMfEdLG",
      "include_colab_link": true
    },
    "kernelspec": {
      "name": "python3",
      "display_name": "Python 3"
    },
    "language_info": {
      "name": "python"
    }
  },
  "cells": [
    {
      "cell_type": "markdown",
      "metadata": {
        "id": "view-in-github",
        "colab_type": "text"
      },
      "source": [
        "<a href=\"https://colab.research.google.com/github/rahgadda/deeplearning/blob/main/01-python/Python_Basics.ipynb\" target=\"_parent\"><img src=\"https://colab.research.google.com/assets/colab-badge.svg\" alt=\"Open In Colab\"/></a>"
      ]
    },
    {
      "cell_type": "markdown",
      "metadata": {
        "id": "LwX6v0161p2e"
      },
      "source": [
        "**First Program `Hello, World!`**"
      ]
    },
    {
      "cell_type": "code",
      "metadata": {
        "colab": {
          "base_uri": "https://localhost:8080/"
        },
        "id": "pr32BfXJ0Rj4",
        "outputId": "6ff42cba-6b66-4419-9ac4-1230407fab02"
      },
      "source": [
        "print(\"Hello World\")"
      ],
      "execution_count": null,
      "outputs": [
        {
          "output_type": "stream",
          "text": [
            "Hello World\n"
          ],
          "name": "stdout"
        }
      ]
    },
    {
      "cell_type": "markdown",
      "metadata": {
        "id": "a6EUxf0H6iGV"
      },
      "source": [
        "**1. Comments**\n",
        "* Single Line Comments can be created using `#`\n",
        "* For Multiple Line Comments there is no support from Python. \n",
        "  - We can use these as python interpreter ignores these `\"\"\"` or `'''`"
      ]
    },
    {
      "cell_type": "code",
      "metadata": {
        "colab": {
          "base_uri": "https://localhost:8080/",
          "height": 35
        },
        "id": "zNs7El4e6onC",
        "outputId": "6e97b0d7-8b82-4634-b68a-63fed2c32597"
      },
      "source": [
        "# Single line comments\n",
        "\n",
        "\"\"\"\n",
        "\n",
        "Multi line comment\n",
        "\n",
        "\"\"\"\n",
        "\n",
        "'''\n",
        "\n",
        "Multi line comment\n",
        "\n",
        "'''"
      ],
      "execution_count": null,
      "outputs": [
        {
          "output_type": "execute_result",
          "data": {
            "application/vnd.google.colaboratory.intrinsic+json": {
              "type": "string"
            },
            "text/plain": [
              "'\\n\\nMulti line comment\\n\\n'"
            ]
          },
          "metadata": {
            "tags": []
          },
          "execution_count": 4
        }
      ]
    },
    {
      "cell_type": "markdown",
      "metadata": {
        "id": "Vq3suplb1yKk"
      },
      "source": [
        "**2. Variables**\n",
        "\n",
        "* A variable is a named location used to store data in the memory.\n",
        "* In Python, values are not assigned to variables. It gives the reference of the object(value) to the variable.\n",
        "* **Naming Conventsion**\n",
        "  - Variable names should have a combination of letters in lowercase `(a to z)` or uppercase `(A to Z)` or digits `(0 to 9)` or an underscore `(_)`\n",
        "  - A variable name must `start with a letter or the underscore` character.\n",
        "  - Use `capital letters` possible to declare a `constant`.\n",
        "  - Don't `start a variable name` with a `digit`.\n",
        "  - Variable names are `case-sensitive`\n",
        "\n",
        "\n",
        "\n"
      ]
    },
    {
      "cell_type": "markdown",
      "metadata": {
        "id": "wEqTujFfAZh4"
      },
      "source": [
        "**3. Data Types**\n",
        "\n",
        "Python automatically determines data types of variables based on values.   \n",
        "Python support below data types\n",
        "* **Simple Data Type:**\n",
        "  - `int` used to store for non decimal values.\n",
        "  - `float` used to store decimal values.\n",
        "  - `bool` used to store `True` or `False`.\n",
        "  - `str` used to store Strings. These can be created using `\"\"` or `''`\n",
        "* **Collections:**\n",
        "  - `List` is an ordered sequence of items. These are `mutable`.\n",
        "  - `Tuple` is same as a list. These are `immutable`.\n",
        "  - `Set` is an unordered collection of unique items. Sets have `unique values`.\n",
        "  - `Dictionary` is an unordered collection of `key-value pairs`.\n"
      ]
    },
    {
      "cell_type": "code",
      "metadata": {
        "colab": {
          "base_uri": "https://localhost:8080/"
        },
        "id": "oo7lBd6IDPI8",
        "outputId": "5eb52be7-32de-4733-b67a-51f737fc1a45"
      },
      "source": [
        "# Simple DatTypes\n",
        "x = \"Hello World\"\n",
        "print(x,\" is of \", type(x), \" datatype\")\n",
        "\n",
        "x = 20\n",
        "print(x,\" is of \", type(x), \" datatype\")\n",
        "\n",
        "x = 20.5\n",
        "print(x,\" is of \", type(x), \" datatype\")\n",
        "\n",
        "x = True\n",
        "print(x,\" is of \", type(x), \" datatype\")\n",
        "\n",
        "\n",
        "# Collection DatTypes\n",
        "x = [5,10,15,20,25,30,35,40]\n",
        "print(x,\" is of \", type(x), \" datatype\")\n",
        "\n",
        "x = (5,10,15,20,25,30,35,40)\n",
        "print(x,\" is of \", type(x), \" datatype\")\n",
        "\n",
        "x = {5,10,15,20,25,30,35,40}\n",
        "print(x,\" is of \", type(x), \" datatype\")\n",
        "\n",
        "x = {\"key1\":5, \"key2\":10}\n",
        "print(x,\" is of \", type(x), \" datatype\")"
      ],
      "execution_count": null,
      "outputs": [
        {
          "output_type": "stream",
          "text": [
            "Hello World  is of  <class 'str'>  datatype\n",
            "20  is of  <class 'int'>  datatype\n",
            "20.5  is of  <class 'float'>  datatype\n",
            "True  is of  <class 'bool'>  datatype\n",
            "[5, 10, 15, 20, 25, 30, 35, 40]  is of  <class 'list'>  datatype\n",
            "(5, 10, 15, 20, 25, 30, 35, 40)  is of  <class 'tuple'>  datatype\n",
            "{35, 5, 40, 10, 15, 20, 25, 30}  is of  <class 'set'>  datatype\n",
            "{'key1': 5, 'key2': 10}  is of  <class 'dict'>  datatype\n"
          ],
          "name": "stdout"
        }
      ]
    },
    {
      "cell_type": "markdown",
      "metadata": {
        "id": "xKRewFLKSudE"
      },
      "source": [
        "**4. Control Flow**\n",
        "\n",
        "Python supports three types of control flows\n",
        "* `if elif else` used to perform conditional actions\n",
        "* `while` used to iterate over a block of code as long as the test expression is `True`\n",
        "* `for` used to iterate over a sequence (list, tuple, string) or other iterable objects\n",
        "\n",
        "Python also below statements to comprihend control flows\n",
        "* `break` terminates the loop containing it\n",
        "* `continue` skip the rest of the code inside a loop\n",
        "* `pass` used to construct a body that does nothing"
      ]
    },
    {
      "cell_type": "code",
      "metadata": {
        "colab": {
          "base_uri": "https://localhost:8080/"
        },
        "id": "N8NDyJgGUuyi",
        "outputId": "6ea33c1f-071b-48dd-b6cf-efcb99443ef9"
      },
      "source": [
        "# If Statement\n",
        "num = -1\n",
        "if num > 0:\n",
        "  print(\"Positive number\")\n",
        "elif num == 0:\n",
        "  print(\"Zero\")\n",
        "else:\n",
        "  print(\"Negative number\")\n",
        "\n",
        "# While Loop\n",
        "while (num <0):\n",
        "  print(\"Still Negative number\")\n",
        "  num += 1\n",
        "\n",
        "# For Loop\n",
        "num = range(11)\n",
        "print(\"Update Num \", num)\n",
        "for i in num:\n",
        "  print(\"Invidiual Values \", i)"
      ],
      "execution_count": 21,
      "outputs": [
        {
          "output_type": "stream",
          "text": [
            "Negative number\n",
            "Still Negative number\n",
            "Update Num  range(0, 11)\n",
            "Invidiual Values  0\n",
            "Invidiual Values  1\n",
            "Invidiual Values  2\n",
            "Invidiual Values  3\n",
            "Invidiual Values  4\n",
            "Invidiual Values  5\n",
            "Invidiual Values  6\n",
            "Invidiual Values  7\n",
            "Invidiual Values  8\n",
            "Invidiual Values  9\n",
            "Invidiual Values  10\n"
          ],
          "name": "stdout"
        }
      ]
    }
  ]
}