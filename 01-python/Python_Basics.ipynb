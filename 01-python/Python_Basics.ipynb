{
  "nbformat": 4,
  "nbformat_minor": 0,
  "metadata": {
    "colab": {
      "name": "Python Basics.ipynb",
      "provenance": [],
      "collapsed_sections": [],
      "authorship_tag": "ABX9TyOO5lBJ15vuk/SteGFzzymg",
      "include_colab_link": true
    },
    "kernelspec": {
      "name": "python3",
      "display_name": "Python 3"
    },
    "language_info": {
      "name": "python"
    }
  },
  "cells": [
    {
      "cell_type": "markdown",
      "metadata": {
        "id": "view-in-github",
        "colab_type": "text"
      },
      "source": [
        "<a href=\"https://colab.research.google.com/github/rahgadda/deelearning/blob/main/01-python/Python_Basics.ipynb\" target=\"_parent\"><img src=\"https://colab.research.google.com/assets/colab-badge.svg\" alt=\"Open In Colab\"/></a>"
      ]
    },
    {
      "cell_type": "markdown",
      "metadata": {
        "id": "LwX6v0161p2e"
      },
      "source": [
        "\"Hello, World!\""
      ]
    },
    {
      "cell_type": "code",
      "metadata": {
        "colab": {
          "base_uri": "https://localhost:8080/"
        },
        "id": "pr32BfXJ0Rj4",
        "outputId": "6ff42cba-6b66-4419-9ac4-1230407fab02"
      },
      "source": [
        "print(\"Hello World\")"
      ],
      "execution_count": null,
      "outputs": [
        {
          "output_type": "stream",
          "text": [
            "Hello World\n"
          ],
          "name": "stdout"
        }
      ]
    },
    {
      "cell_type": "markdown",
      "metadata": {
        "id": "Vq3suplb1yKk"
      },
      "source": [
        "**1. Variables**\n",
        "\n",
        "\n",
        "* A variable is a named location used to store data in the memory.\n",
        "* In Python, values are not assigned to variables. It gives the reference of the object(value) to the variable.\n",
        "* **Naming Conventsion**\n",
        "  - Variable names should have a combination of letters in lowercase `(a to z)` or uppercase `(A to Z)` or digits `(0 to 9)` or an underscore `(_)`\n",
        "  - A variable name must `start with a letter or the underscore` character.\n",
        "  - Use `capital letters` possible to declare a `constant`.\n",
        "  - Don't `start a variable name` with a `digit`.\n",
        "  - Variable names are `case-sensitive`\n",
        "\n",
        "\n",
        "\n"
      ]
    }
  ]
}