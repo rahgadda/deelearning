{
  "nbformat": 4,
  "nbformat_minor": 0,
  "metadata": {
    "colab": {
      "name": "Pytorch.ipynb",
      "provenance": [],
      "collapsed_sections": [],
      "authorship_tag": "ABX9TyN0ktoYZyB0x57RZCDjwBLN",
      "include_colab_link": true
    },
    "kernelspec": {
      "name": "python3",
      "display_name": "Python 3"
    },
    "language_info": {
      "name": "python"
    }
  },
  "cells": [
    {
      "cell_type": "markdown",
      "metadata": {
        "id": "view-in-github",
        "colab_type": "text"
      },
      "source": [
        "<a href=\"https://colab.research.google.com/github/rahgadda/deeplearning/blob/main/01-python%5CPytorch.ipynb\" target=\"_parent\"><img src=\"https://colab.research.google.com/assets/colab-badge.svg\" alt=\"Open In Colab\"/></a>"
      ]
    },
    {
      "cell_type": "markdown",
      "metadata": {
        "id": "hRGHQc09i-vk"
      },
      "source": [
        "**Pytorch**\n",
        "\n",
        "[Reference](https://github.com/jonkrohn/ML-foundations/tree/master/notebooks)"
      ]
    },
    {
      "cell_type": "markdown",
      "metadata": {
        "id": "pdNGF1WPjGh8"
      },
      "source": [
        "**1. Define Scalar Tensors**"
      ]
    },
    {
      "cell_type": "code",
      "metadata": {
        "colab": {
          "base_uri": "https://localhost:8080/"
        },
        "id": "Lq7atvKQhIJ_",
        "outputId": "833ea9f3-e518-4c77-c060-1d3dd3b8b9bd"
      },
      "source": [
        "import torch\n",
        "\n",
        "x_pt = torch.tensor(25)\n",
        "x_pt"
      ],
      "execution_count": 16,
      "outputs": [
        {
          "output_type": "execute_result",
          "data": {
            "text/plain": [
              "tensor(25)"
            ]
          },
          "metadata": {
            "tags": []
          },
          "execution_count": 16
        }
      ]
    },
    {
      "cell_type": "code",
      "metadata": {
        "colab": {
          "base_uri": "https://localhost:8080/"
        },
        "id": "O185jB4AjMxp",
        "outputId": "7633c613-af81-4517-db68-b707cc0ee11c"
      },
      "source": [
        "x_pt.shape"
      ],
      "execution_count": 19,
      "outputs": [
        {
          "output_type": "execute_result",
          "data": {
            "text/plain": [
              "torch.Size([])"
            ]
          },
          "metadata": {
            "tags": []
          },
          "execution_count": 19
        }
      ]
    },
    {
      "cell_type": "code",
      "metadata": {
        "colab": {
          "base_uri": "https://localhost:8080/"
        },
        "id": "lOuImprQiqv-",
        "outputId": "cbc05786-2aad-4684-9dde-362b1c11d70e"
      },
      "source": [
        "y_pt = torch.tensor(25,dtype=torch.float64)\n",
        "y_pt"
      ],
      "execution_count": 17,
      "outputs": [
        {
          "output_type": "execute_result",
          "data": {
            "text/plain": [
              "tensor(25., dtype=torch.float64)"
            ]
          },
          "metadata": {
            "tags": []
          },
          "execution_count": 17
        }
      ]
    },
    {
      "cell_type": "code",
      "metadata": {
        "colab": {
          "base_uri": "https://localhost:8080/"
        },
        "id": "HGgonAJuisSR",
        "outputId": "1dc4ab3e-c583-4de0-aeca-85db3db1d752"
      },
      "source": [
        "sum_pt = torch.add(x_pt,y_pt)\n",
        "sum_pt"
      ],
      "execution_count": 18,
      "outputs": [
        {
          "output_type": "execute_result",
          "data": {
            "text/plain": [
              "tensor(50., dtype=torch.float64)"
            ]
          },
          "metadata": {
            "tags": []
          },
          "execution_count": 18
        }
      ]
    }
  ]
}
