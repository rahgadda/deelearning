{
  "nbformat": 4,
  "nbformat_minor": 0,
  "metadata": {
    "colab": {
      "name": "Discrete Event Simulation - Simpy.ipynb",
      "provenance": [],
      "collapsed_sections": [],
      "authorship_tag": "ABX9TyPYQjNrgpRZMggS1nwyexLb",
      "include_colab_link": true
    },
    "kernelspec": {
      "name": "python3",
      "display_name": "Python 3"
    },
    "language_info": {
      "name": "python"
    }
  },
  "cells": [
    {
      "cell_type": "markdown",
      "metadata": {
        "id": "view-in-github",
        "colab_type": "text"
      },
      "source": [
        "<a href=\"https://colab.research.google.com/github/rahgadda/deeplearning/blob/main/01-python/Discrete_Event_Simulation_Simpy.ipynb\" target=\"_parent\"><img src=\"https://colab.research.google.com/assets/colab-badge.svg\" alt=\"Open In Colab\"/></a>"
      ]
    },
    {
      "cell_type": "markdown",
      "metadata": {
        "id": "gjg1TBNSX9R4"
      },
      "source": [
        "# Discrete Event Simulation(DES)\n",
        "- Most business processes can be described as a sequence of separate discrete events. \n",
        "  - For example, a truck arrives at a warehouse, goes to an unloading gate, unloads, and then departs. \n",
        "  - To simulate this, **Discrete Event Simulation** is often chosen.\n",
        "- It is a way of modelling queuing problems where entities flow throught discrete sequenctial processes that use resources.\n",
        "- Build blocks of DES\n",
        "  - **Entities:**  These are things that flow throught seqeuential processes. Example, patient entering hospital\n",
        "  - **Generators:** Channel using which entities enter the model. For example, patient brought by ambulence.\n",
        "  - **Inter-Arrival Times:** Time between entities entering the model. For example, general timegap between patience.\n",
        "  - **Activity/Process:** Activities that happen to entities. For example, patient getting treatment, patient admission to ward.\n",
        "  - **Activity/Process Time:** Time taken for each activity to be performed on entity. For example, time taken for treatment, time taken for admission to ward.\n",
        "  - **Resources:** These are list of resources required for activity to take place. These can be shared between processes. For example, patient required nurse to perform treatment, doctor required to diagnos type od treatment required.\n",
        "  - **Queues:** This is where entities are held until an process has capacity and the required resources to begin.\n",
        "  - **Sink:** How entities leave the model.\n"
      ]
    },
    {
      "cell_type": "markdown",
      "metadata": {
        "id": "TZ-8n5V3dVhk"
      },
      "source": [
        "# Simpy\n",
        "- It is used for **Discrete Event Simulation**. Below are the important entities of Simpy\n",
        "  - **Process:** The behavior of active components (like vehicles, customers or messages) is modeled with *processes*. described by simple Python *generators*.\n",
        "  - **Enviroment - env:** All *processes* live in an *environment*. \n",
        "  - **Events:** *Processes* interact with the *environment* and with each other via *events*.\n",
        "  - **Resources:** Shared and used by processes"
      ]
    },
    {
      "cell_type": "code",
      "metadata": {
        "id": "x39q535ENKzo",
        "colab": {
          "base_uri": "https://localhost:8080/"
        },
        "outputId": "a8194b90-063a-4f30-c147-3337a101c86e"
      },
      "source": [
        "# Install Simpy\n",
        "!pip install simpy"
      ],
      "execution_count": null,
      "outputs": [
        {
          "output_type": "stream",
          "text": [
            "Requirement already satisfied: simpy in /usr/local/lib/python3.7/dist-packages (4.0.1)\n"
          ],
          "name": "stdout"
        }
      ]
    },
    {
      "cell_type": "markdown",
      "metadata": {
        "id": "TLGCmN8xeAfk"
      },
      "source": [
        "# Problem Statement 1:\n",
        "- Car Process\n",
        "  - The car will alternately drive and park for a while. When it starts driving (or parking), it will print the current simulation time."
      ]
    },
    {
      "cell_type": "code",
      "metadata": {
        "colab": {
          "base_uri": "https://localhost:8080/"
        },
        "id": "Q3L4ZSoq4osr",
        "outputId": "9f6ae7d2-f334-4ba6-acf4-142c11331ba8"
      },
      "source": [
        "import simpy as simpy\n",
        "\n",
        "def car(env):\n",
        "  while True:\n",
        "    print('Start parking at ', env.now)\n",
        "    parking_duration = 5\n",
        "    yield env.timeout(parking_duration)\n",
        "\n",
        "    print('Start driving at ', env.now)\n",
        "    trip_duration = 2\n",
        "    yield env.timeout(trip_duration)\n",
        "\n",
        "env = simpy.Environment()\n",
        "env.process(car(env))\n",
        "env.run(until=15)"
      ],
      "execution_count": null,
      "outputs": [
        {
          "output_type": "stream",
          "text": [
            "Start parking at  0\n",
            "Start driving at  5\n",
            "Start parking at  7\n",
            "Start driving at  12\n",
            "Start parking at  14\n"
          ],
          "name": "stdout"
        }
      ]
    },
    {
      "cell_type": "markdown",
      "metadata": {
        "id": "DXTMvUlQ6SC6"
      },
      "source": [
        "# Problem Statement 2:\n",
        "\n",
        "- Electric vehicles usually take a 60 min time charging their batteries after a trip of 300 miles @75mph.\n",
        "- Simulate distance travelled in 15hrs."
      ]
    },
    {
      "cell_type": "code",
      "metadata": {
        "colab": {
          "base_uri": "https://localhost:8080/"
        },
        "id": "iPmZ08Ao7mLZ",
        "outputId": "351d136b-b565-46c5-b6bb-ee58214c8375"
      },
      "source": [
        "class Car(object):\n",
        "  # Start the run process everytime an new car instance is created.\n",
        "  def __init__(self, env):\n",
        "    self.env = env\n",
        "    self.action = env.process(self.run())\n",
        "  \n",
        "  # Model to charge for 45 min and travel for 240 min to travel 300 miles\n",
        "  def run(self):\n",
        "    distance =0\n",
        "    while True:\n",
        "      print('Started Driving @', self.env.now, ' Min')\n",
        "      trip_duration = 240\n",
        "      distance += 300\n",
        "      yield self.env.timeout(trip_duration)\n",
        "      print('Traveled ',distance, ' Miles')\n",
        "\n",
        "      print('Started parking and charging @', self.env.now, ' Min')\n",
        "      charge_duration = 60\n",
        "      yield self.env.timeout(charge_duration)\n",
        "  \n",
        "env = simpy.Environment()\n",
        "car = Car(env)\n",
        "env.run(until=15*60+1)"
      ],
      "execution_count": null,
      "outputs": [
        {
          "output_type": "stream",
          "text": [
            "Started Driving @ 0  Min\n",
            "Traveled  300  Miles\n",
            "Started parking and charging @ 240  Min\n",
            "Started Driving @ 300  Min\n",
            "Traveled  600  Miles\n",
            "Started parking and charging @ 540  Min\n",
            "Started Driving @ 600  Min\n",
            "Traveled  900  Miles\n",
            "Started parking and charging @ 840  Min\n",
            "Started Driving @ 900  Min\n"
          ],
          "name": "stdout"
        }
      ]
    },
    {
      "cell_type": "markdown",
      "metadata": {
        "id": "Aao8iEZJOKkb"
      },
      "source": [
        "# Problem Statement 3:\n",
        "\n",
        "- Solve problem for a Movie theater executive for eazy booking of movie\n",
        "- Below are list of tasks involve\n",
        "  - Arrive at Theater\n",
        "  - Get in line to buy a ticket\n",
        "  - Buy a ticket\n",
        "  - Wait in line to have ticket checked\n",
        "  - Have the ticket checked\n",
        "  - Buy beverages\n",
        "  - Go to seats\n"
      ]
    },
    {
      "cell_type": "code",
      "metadata": {
        "id": "uVkVhnK9OEDE"
      },
      "source": [
        "import simpy as simpy\n",
        "import random\n",
        "import statistics\n",
        "\n",
        "wait_times = []\n",
        "\n",
        "class Theater(object):\n",
        "  def __init__(self, env, num_cashiers, num_servers, num_ushers):\n",
        "    self.env = env\n",
        "    self.cashiers = simpy.Resource(env, num_cashiers)\n",
        "    self.servers  = simpy.Resource(env, num_servers)\n",
        "    self.ushers   = simpy.Resource(env, num_ushers)\n",
        "\n",
        "  def purchase_ticket(self, customer):\n",
        "    yeild self.env.timeout(random.randint(1,3))\n",
        "\n",
        "  def check_ticket(self, customer):\n",
        "    yeild self.env.timeout(random.randint(1,5))  \n",
        "\n",
        "  def buy_beverage(self, customer):\n",
        "    yeild self.env.timeout(random.randint(5,10))  "
      ],
      "execution_count": null,
      "outputs": []
    }
  ]
}